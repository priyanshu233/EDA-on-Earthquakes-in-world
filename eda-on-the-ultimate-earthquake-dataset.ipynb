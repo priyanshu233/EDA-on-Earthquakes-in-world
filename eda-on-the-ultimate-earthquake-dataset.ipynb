{
 "cells": [
  {
   "cell_type": "code",
   "execution_count": 1,
   "id": "c7b14c78",
   "metadata": {
    "_cell_guid": "b1076dfc-b9ad-4769-8c92-a6c4dae69d19",
    "_uuid": "8f2839f25d086af736a60e9eeb907d3b93b6e0e5",
    "execution": {
     "iopub.execute_input": "2023-08-29T11:57:20.756063Z",
     "iopub.status.busy": "2023-08-29T11:57:20.754508Z",
     "iopub.status.idle": "2023-08-29T11:57:22.407851Z",
     "shell.execute_reply": "2023-08-29T11:57:22.406652Z"
    },
    "papermill": {
     "duration": 1.663738,
     "end_time": "2023-08-29T11:57:22.410310",
     "exception": false,
     "start_time": "2023-08-29T11:57:20.746572",
     "status": "completed"
    },
    "tags": []
   },
   "outputs": [
    {
     "name": "stderr",
     "output_type": "stream",
     "text": [
      "/opt/conda/lib/python3.10/site-packages/scipy/__init__.py:146: UserWarning: A NumPy version >=1.16.5 and <1.23.0 is required for this version of SciPy (detected version 1.23.5\n",
      "  warnings.warn(f\"A NumPy version >={np_minversion} and <{np_maxversion}\"\n"
     ]
    },
    {
     "name": "stdout",
     "output_type": "stream",
     "text": [
      "/kaggle/input/the-ultimate-earthquake-dataset-from-1990-2023/Eartquakes-1990-2023.csv\n"
     ]
    }
   ],
   "source": [
    "\n",
    "import numpy as np \n",
    "import pandas as pd \n",
    "import matplotlib.pyplot as plt\n",
    "import seaborn as sns\n",
    "\n",
    "\n",
    "import os\n",
    "for dirname, _, filenames in os.walk('/kaggle/input'):\n",
    "    for filename in filenames:\n",
    "        print(os.path.join(dirname, filename))\n",
    "\n"
   ]
  },
  {
   "cell_type": "code",
   "execution_count": 2,
   "id": "f93ae408",
   "metadata": {
    "execution": {
     "iopub.execute_input": "2023-08-29T11:57:22.423935Z",
     "iopub.status.busy": "2023-08-29T11:57:22.422616Z",
     "iopub.status.idle": "2023-08-29T11:57:40.630893Z",
     "shell.execute_reply": "2023-08-29T11:57:40.629915Z"
    },
    "papermill": {
     "duration": 18.217833,
     "end_time": "2023-08-29T11:57:40.633682",
     "exception": false,
     "start_time": "2023-08-29T11:57:22.415849",
     "status": "completed"
    },
    "tags": []
   },
   "outputs": [],
   "source": [
    "ks = pd.read_csv(\"/kaggle/input/the-ultimate-earthquake-dataset-from-1990-2023/Eartquakes-1990-2023.csv\")\n"
   ]
  },
  {
   "cell_type": "code",
   "execution_count": 3,
   "id": "c3c0ee69",
   "metadata": {
    "execution": {
     "iopub.execute_input": "2023-08-29T11:57:40.647066Z",
     "iopub.status.busy": "2023-08-29T11:57:40.646002Z",
     "iopub.status.idle": "2023-08-29T11:57:40.653093Z",
     "shell.execute_reply": "2023-08-29T11:57:40.652050Z"
    },
    "papermill": {
     "duration": 0.016379,
     "end_time": "2023-08-29T11:57:40.655585",
     "exception": false,
     "start_time": "2023-08-29T11:57:40.639206",
     "status": "completed"
    },
    "tags": []
   },
   "outputs": [
    {
     "data": {
      "text/plain": [
       "(3445751, 12)"
      ]
     },
     "execution_count": 3,
     "metadata": {},
     "output_type": "execute_result"
    }
   ],
   "source": [
    "ks.shape"
   ]
  },
  {
   "cell_type": "code",
   "execution_count": 4,
   "id": "860a0b74",
   "metadata": {
    "execution": {
     "iopub.execute_input": "2023-08-29T11:57:40.671571Z",
     "iopub.status.busy": "2023-08-29T11:57:40.670599Z",
     "iopub.status.idle": "2023-08-29T11:57:40.697502Z",
     "shell.execute_reply": "2023-08-29T11:57:40.696344Z"
    },
    "papermill": {
     "duration": 0.036938,
     "end_time": "2023-08-29T11:57:40.700144",
     "exception": false,
     "start_time": "2023-08-29T11:57:40.663206",
     "status": "completed"
    },
    "tags": []
   },
   "outputs": [
    {
     "data": {
      "text/html": [
       "<div>\n",
       "<style scoped>\n",
       "    .dataframe tbody tr th:only-of-type {\n",
       "        vertical-align: middle;\n",
       "    }\n",
       "\n",
       "    .dataframe tbody tr th {\n",
       "        vertical-align: top;\n",
       "    }\n",
       "\n",
       "    .dataframe thead th {\n",
       "        text-align: right;\n",
       "    }\n",
       "</style>\n",
       "<table border=\"1\" class=\"dataframe\">\n",
       "  <thead>\n",
       "    <tr style=\"text-align: right;\">\n",
       "      <th></th>\n",
       "      <th>time</th>\n",
       "      <th>place</th>\n",
       "      <th>status</th>\n",
       "      <th>tsunami</th>\n",
       "      <th>significance</th>\n",
       "      <th>data_type</th>\n",
       "      <th>magnitudo</th>\n",
       "      <th>state</th>\n",
       "      <th>longitude</th>\n",
       "      <th>latitude</th>\n",
       "      <th>depth</th>\n",
       "      <th>date</th>\n",
       "    </tr>\n",
       "  </thead>\n",
       "  <tbody>\n",
       "    <tr>\n",
       "      <th>0</th>\n",
       "      <td>631153353990</td>\n",
       "      <td>12 km NNW of Meadow Lakes, Alaska</td>\n",
       "      <td>reviewed</td>\n",
       "      <td>0</td>\n",
       "      <td>96</td>\n",
       "      <td>earthquake</td>\n",
       "      <td>2.50</td>\n",
       "      <td>Alaska</td>\n",
       "      <td>-149.669200</td>\n",
       "      <td>61.730200</td>\n",
       "      <td>30.100</td>\n",
       "      <td>1990-01-01 00:22:33.990000+00:00</td>\n",
       "    </tr>\n",
       "    <tr>\n",
       "      <th>1</th>\n",
       "      <td>631153491210</td>\n",
       "      <td>14 km S of Volcano, Hawaii</td>\n",
       "      <td>reviewed</td>\n",
       "      <td>0</td>\n",
       "      <td>31</td>\n",
       "      <td>earthquake</td>\n",
       "      <td>1.41</td>\n",
       "      <td>Hawaii</td>\n",
       "      <td>-155.212333</td>\n",
       "      <td>19.317667</td>\n",
       "      <td>6.585</td>\n",
       "      <td>1990-01-01 00:24:51.210000+00:00</td>\n",
       "    </tr>\n",
       "    <tr>\n",
       "      <th>2</th>\n",
       "      <td>631154083450</td>\n",
       "      <td>7 km W of Cobb, California</td>\n",
       "      <td>reviewed</td>\n",
       "      <td>0</td>\n",
       "      <td>19</td>\n",
       "      <td>earthquake</td>\n",
       "      <td>1.11</td>\n",
       "      <td>California</td>\n",
       "      <td>-122.806167</td>\n",
       "      <td>38.821000</td>\n",
       "      <td>3.220</td>\n",
       "      <td>1990-01-01 00:34:43.450000+00:00</td>\n",
       "    </tr>\n",
       "    <tr>\n",
       "      <th>3</th>\n",
       "      <td>631155512130</td>\n",
       "      <td>11 km E of Mammoth Lakes, California</td>\n",
       "      <td>reviewed</td>\n",
       "      <td>0</td>\n",
       "      <td>15</td>\n",
       "      <td>earthquake</td>\n",
       "      <td>0.98</td>\n",
       "      <td>California</td>\n",
       "      <td>-118.846333</td>\n",
       "      <td>37.664333</td>\n",
       "      <td>-0.584</td>\n",
       "      <td>1990-01-01 00:58:32.130000+00:00</td>\n",
       "    </tr>\n",
       "    <tr>\n",
       "      <th>4</th>\n",
       "      <td>631155824490</td>\n",
       "      <td>16km N of Fillmore, CA</td>\n",
       "      <td>reviewed</td>\n",
       "      <td>0</td>\n",
       "      <td>134</td>\n",
       "      <td>earthquake</td>\n",
       "      <td>2.95</td>\n",
       "      <td>California</td>\n",
       "      <td>-118.934000</td>\n",
       "      <td>34.546000</td>\n",
       "      <td>16.122</td>\n",
       "      <td>1990-01-01 01:03:44.490000+00:00</td>\n",
       "    </tr>\n",
       "  </tbody>\n",
       "</table>\n",
       "</div>"
      ],
      "text/plain": [
       "           time                                 place    status  tsunami  \\\n",
       "0  631153353990     12 km NNW of Meadow Lakes, Alaska  reviewed        0   \n",
       "1  631153491210            14 km S of Volcano, Hawaii  reviewed        0   \n",
       "2  631154083450            7 km W of Cobb, California  reviewed        0   \n",
       "3  631155512130  11 km E of Mammoth Lakes, California  reviewed        0   \n",
       "4  631155824490                16km N of Fillmore, CA  reviewed        0   \n",
       "\n",
       "   significance   data_type  magnitudo        state   longitude   latitude  \\\n",
       "0            96  earthquake       2.50       Alaska -149.669200  61.730200   \n",
       "1            31  earthquake       1.41       Hawaii -155.212333  19.317667   \n",
       "2            19  earthquake       1.11   California -122.806167  38.821000   \n",
       "3            15  earthquake       0.98   California -118.846333  37.664333   \n",
       "4           134  earthquake       2.95   California -118.934000  34.546000   \n",
       "\n",
       "    depth                              date  \n",
       "0  30.100  1990-01-01 00:22:33.990000+00:00  \n",
       "1   6.585  1990-01-01 00:24:51.210000+00:00  \n",
       "2   3.220  1990-01-01 00:34:43.450000+00:00  \n",
       "3  -0.584  1990-01-01 00:58:32.130000+00:00  \n",
       "4  16.122  1990-01-01 01:03:44.490000+00:00  "
      ]
     },
     "execution_count": 4,
     "metadata": {},
     "output_type": "execute_result"
    }
   ],
   "source": [
    "ks.head(5)"
   ]
  },
  {
   "cell_type": "code",
   "execution_count": 5,
   "id": "454945d5",
   "metadata": {
    "execution": {
     "iopub.execute_input": "2023-08-29T11:57:40.715003Z",
     "iopub.status.busy": "2023-08-29T11:57:40.714496Z",
     "iopub.status.idle": "2023-08-29T11:57:40.741927Z",
     "shell.execute_reply": "2023-08-29T11:57:40.740180Z"
    },
    "papermill": {
     "duration": 0.037901,
     "end_time": "2023-08-29T11:57:40.744213",
     "exception": false,
     "start_time": "2023-08-29T11:57:40.706312",
     "status": "completed"
    },
    "tags": []
   },
   "outputs": [
    {
     "name": "stdout",
     "output_type": "stream",
     "text": [
      "<class 'pandas.core.frame.DataFrame'>\n",
      "RangeIndex: 3445751 entries, 0 to 3445750\n",
      "Data columns (total 12 columns):\n",
      " #   Column        Dtype  \n",
      "---  ------        -----  \n",
      " 0   time          int64  \n",
      " 1   place         object \n",
      " 2   status        object \n",
      " 3   tsunami       int64  \n",
      " 4   significance  int64  \n",
      " 5   data_type     object \n",
      " 6   magnitudo     float64\n",
      " 7   state         object \n",
      " 8   longitude     float64\n",
      " 9   latitude      float64\n",
      " 10  depth         float64\n",
      " 11  date          object \n",
      "dtypes: float64(4), int64(3), object(5)\n",
      "memory usage: 315.5+ MB\n"
     ]
    }
   ],
   "source": [
    "ks.info()"
   ]
  },
  {
   "cell_type": "code",
   "execution_count": 6,
   "id": "74fb3674",
   "metadata": {
    "execution": {
     "iopub.execute_input": "2023-08-29T11:57:40.758176Z",
     "iopub.status.busy": "2023-08-29T11:57:40.757671Z",
     "iopub.status.idle": "2023-08-29T11:57:40.767997Z",
     "shell.execute_reply": "2023-08-29T11:57:40.766701Z"
    },
    "papermill": {
     "duration": 0.020471,
     "end_time": "2023-08-29T11:57:40.770630",
     "exception": false,
     "start_time": "2023-08-29T11:57:40.750159",
     "status": "completed"
    },
    "tags": []
   },
   "outputs": [
    {
     "data": {
      "text/plain": [
       "time              int64\n",
       "place            object\n",
       "status           object\n",
       "tsunami           int64\n",
       "significance      int64\n",
       "data_type        object\n",
       "magnitudo       float64\n",
       "state            object\n",
       "longitude       float64\n",
       "latitude        float64\n",
       "depth           float64\n",
       "date             object\n",
       "dtype: object"
      ]
     },
     "execution_count": 6,
     "metadata": {},
     "output_type": "execute_result"
    }
   ],
   "source": [
    "#checking the data types\n",
    "ks.dtypes"
   ]
  },
  {
   "cell_type": "code",
   "execution_count": 7,
   "id": "d98cadcf",
   "metadata": {
    "execution": {
     "iopub.execute_input": "2023-08-29T11:57:40.785047Z",
     "iopub.status.busy": "2023-08-29T11:57:40.784572Z",
     "iopub.status.idle": "2023-08-29T11:57:41.856258Z",
     "shell.execute_reply": "2023-08-29T11:57:41.854791Z"
    },
    "papermill": {
     "duration": 1.082311,
     "end_time": "2023-08-29T11:57:41.859054",
     "exception": false,
     "start_time": "2023-08-29T11:57:40.776743",
     "status": "completed"
    },
    "tags": []
   },
   "outputs": [
    {
     "data": {
      "text/html": [
       "<div>\n",
       "<style scoped>\n",
       "    .dataframe tbody tr th:only-of-type {\n",
       "        vertical-align: middle;\n",
       "    }\n",
       "\n",
       "    .dataframe tbody tr th {\n",
       "        vertical-align: top;\n",
       "    }\n",
       "\n",
       "    .dataframe thead th {\n",
       "        text-align: right;\n",
       "    }\n",
       "</style>\n",
       "<table border=\"1\" class=\"dataframe\">\n",
       "  <thead>\n",
       "    <tr style=\"text-align: right;\">\n",
       "      <th></th>\n",
       "      <th>time</th>\n",
       "      <th>tsunami</th>\n",
       "      <th>significance</th>\n",
       "      <th>magnitudo</th>\n",
       "      <th>longitude</th>\n",
       "      <th>latitude</th>\n",
       "      <th>depth</th>\n",
       "    </tr>\n",
       "  </thead>\n",
       "  <tbody>\n",
       "    <tr>\n",
       "      <th>count</th>\n",
       "      <td>3.445751e+06</td>\n",
       "      <td>3.445751e+06</td>\n",
       "      <td>3.445751e+06</td>\n",
       "      <td>3.445751e+06</td>\n",
       "      <td>3.445751e+06</td>\n",
       "      <td>3.445751e+06</td>\n",
       "      <td>3.445751e+06</td>\n",
       "    </tr>\n",
       "    <tr>\n",
       "      <th>mean</th>\n",
       "      <td>1.247124e+12</td>\n",
       "      <td>4.434447e-04</td>\n",
       "      <td>7.400973e+01</td>\n",
       "      <td>1.774076e+00</td>\n",
       "      <td>-1.012876e+02</td>\n",
       "      <td>3.746483e+01</td>\n",
       "      <td>2.285387e+01</td>\n",
       "    </tr>\n",
       "    <tr>\n",
       "      <th>std</th>\n",
       "      <td>2.976292e+11</td>\n",
       "      <td>2.105346e-02</td>\n",
       "      <td>1.016364e+02</td>\n",
       "      <td>1.291055e+00</td>\n",
       "      <td>7.697416e+01</td>\n",
       "      <td>2.041577e+01</td>\n",
       "      <td>5.484938e+01</td>\n",
       "    </tr>\n",
       "    <tr>\n",
       "      <th>min</th>\n",
       "      <td>6.311534e+11</td>\n",
       "      <td>0.000000e+00</td>\n",
       "      <td>0.000000e+00</td>\n",
       "      <td>-9.990000e+00</td>\n",
       "      <td>-1.799997e+02</td>\n",
       "      <td>-8.442200e+01</td>\n",
       "      <td>-1.000000e+01</td>\n",
       "    </tr>\n",
       "    <tr>\n",
       "      <th>25%</th>\n",
       "      <td>1.024401e+12</td>\n",
       "      <td>0.000000e+00</td>\n",
       "      <td>1.300000e+01</td>\n",
       "      <td>9.100000e-01</td>\n",
       "      <td>-1.464274e+02</td>\n",
       "      <td>3.406400e+01</td>\n",
       "      <td>3.120000e+00</td>\n",
       "    </tr>\n",
       "    <tr>\n",
       "      <th>50%</th>\n",
       "      <td>1.282338e+12</td>\n",
       "      <td>0.000000e+00</td>\n",
       "      <td>3.300000e+01</td>\n",
       "      <td>1.460000e+00</td>\n",
       "      <td>-1.189538e+02</td>\n",
       "      <td>3.793567e+01</td>\n",
       "      <td>7.700000e+00</td>\n",
       "    </tr>\n",
       "    <tr>\n",
       "      <th>75%</th>\n",
       "      <td>1.508701e+12</td>\n",
       "      <td>0.000000e+00</td>\n",
       "      <td>8.100000e+01</td>\n",
       "      <td>2.300000e+00</td>\n",
       "      <td>-1.159277e+02</td>\n",
       "      <td>4.784800e+01</td>\n",
       "      <td>1.612000e+01</td>\n",
       "    </tr>\n",
       "    <tr>\n",
       "      <th>max</th>\n",
       "      <td>1.690629e+12</td>\n",
       "      <td>1.000000e+00</td>\n",
       "      <td>2.910000e+03</td>\n",
       "      <td>9.100000e+00</td>\n",
       "      <td>1.800000e+02</td>\n",
       "      <td>8.738600e+01</td>\n",
       "      <td>7.358000e+02</td>\n",
       "    </tr>\n",
       "  </tbody>\n",
       "</table>\n",
       "</div>"
      ],
      "text/plain": [
       "               time       tsunami  significance     magnitudo     longitude  \\\n",
       "count  3.445751e+06  3.445751e+06  3.445751e+06  3.445751e+06  3.445751e+06   \n",
       "mean   1.247124e+12  4.434447e-04  7.400973e+01  1.774076e+00 -1.012876e+02   \n",
       "std    2.976292e+11  2.105346e-02  1.016364e+02  1.291055e+00  7.697416e+01   \n",
       "min    6.311534e+11  0.000000e+00  0.000000e+00 -9.990000e+00 -1.799997e+02   \n",
       "25%    1.024401e+12  0.000000e+00  1.300000e+01  9.100000e-01 -1.464274e+02   \n",
       "50%    1.282338e+12  0.000000e+00  3.300000e+01  1.460000e+00 -1.189538e+02   \n",
       "75%    1.508701e+12  0.000000e+00  8.100000e+01  2.300000e+00 -1.159277e+02   \n",
       "max    1.690629e+12  1.000000e+00  2.910000e+03  9.100000e+00  1.800000e+02   \n",
       "\n",
       "           latitude         depth  \n",
       "count  3.445751e+06  3.445751e+06  \n",
       "mean   3.746483e+01  2.285387e+01  \n",
       "std    2.041577e+01  5.484938e+01  \n",
       "min   -8.442200e+01 -1.000000e+01  \n",
       "25%    3.406400e+01  3.120000e+00  \n",
       "50%    3.793567e+01  7.700000e+00  \n",
       "75%    4.784800e+01  1.612000e+01  \n",
       "max    8.738600e+01  7.358000e+02  "
      ]
     },
     "execution_count": 7,
     "metadata": {},
     "output_type": "execute_result"
    }
   ],
   "source": [
    "ks.describe()"
   ]
  },
  {
   "cell_type": "code",
   "execution_count": 8,
   "id": "909fffec",
   "metadata": {
    "execution": {
     "iopub.execute_input": "2023-08-29T11:57:41.876291Z",
     "iopub.status.busy": "2023-08-29T11:57:41.874908Z",
     "iopub.status.idle": "2023-08-29T11:57:44.545410Z",
     "shell.execute_reply": "2023-08-29T11:57:44.543407Z"
    },
    "papermill": {
     "duration": 2.683557,
     "end_time": "2023-08-29T11:57:44.549026",
     "exception": false,
     "start_time": "2023-08-29T11:57:41.865469",
     "status": "completed"
    },
    "tags": []
   },
   "outputs": [
    {
     "data": {
      "text/plain": [
       "time            0\n",
       "place           0\n",
       "status          0\n",
       "tsunami         0\n",
       "significance    0\n",
       "data_type       0\n",
       "magnitudo       0\n",
       "state           0\n",
       "longitude       0\n",
       "latitude        0\n",
       "depth           0\n",
       "date            0\n",
       "dtype: int64"
      ]
     },
     "execution_count": 8,
     "metadata": {},
     "output_type": "execute_result"
    }
   ],
   "source": [
    "#checking the null values\n",
    "pd.isnull(ks).sum()"
   ]
  },
  {
   "cell_type": "code",
   "execution_count": 9,
   "id": "5561e157",
   "metadata": {
    "execution": {
     "iopub.execute_input": "2023-08-29T11:57:44.574167Z",
     "iopub.status.busy": "2023-08-29T11:57:44.572285Z",
     "iopub.status.idle": "2023-08-29T11:57:47.606349Z",
     "shell.execute_reply": "2023-08-29T11:57:47.605067Z"
    },
    "papermill": {
     "duration": 3.04854,
     "end_time": "2023-08-29T11:57:47.609849",
     "exception": false,
     "start_time": "2023-08-29T11:57:44.561309",
     "status": "completed"
    },
    "tags": []
   },
   "outputs": [],
   "source": [
    "ks.dropna(inplace=True)"
   ]
  },
  {
   "cell_type": "code",
   "execution_count": 10,
   "id": "bef99fcd",
   "metadata": {
    "execution": {
     "iopub.execute_input": "2023-08-29T11:57:47.625025Z",
     "iopub.status.busy": "2023-08-29T11:57:47.624555Z",
     "iopub.status.idle": "2023-08-29T11:57:47.633310Z",
     "shell.execute_reply": "2023-08-29T11:57:47.631694Z"
    },
    "papermill": {
     "duration": 0.01999,
     "end_time": "2023-08-29T11:57:47.636566",
     "exception": false,
     "start_time": "2023-08-29T11:57:47.616576",
     "status": "completed"
    },
    "tags": []
   },
   "outputs": [
    {
     "data": {
      "text/plain": [
       "Index(['time', 'place', 'status', 'tsunami', 'significance', 'data_type',\n",
       "       'magnitudo', 'state', 'longitude', 'latitude', 'depth', 'date'],\n",
       "      dtype='object')"
      ]
     },
     "execution_count": 10,
     "metadata": {},
     "output_type": "execute_result"
    }
   ],
   "source": [
    "ks.columns"
   ]
  },
  {
   "cell_type": "code",
   "execution_count": 11,
   "id": "1ffbd276",
   "metadata": {
    "execution": {
     "iopub.execute_input": "2023-08-29T11:57:47.655458Z",
     "iopub.status.busy": "2023-08-29T11:57:47.654993Z",
     "iopub.status.idle": "2023-08-29T11:57:57.008786Z",
     "shell.execute_reply": "2023-08-29T11:57:57.007601Z"
    },
    "papermill": {
     "duration": 9.366366,
     "end_time": "2023-08-29T11:57:57.011306",
     "exception": false,
     "start_time": "2023-08-29T11:57:47.644940",
     "status": "completed"
    },
    "tags": []
   },
   "outputs": [
    {
     "data": {
      "text/plain": [
       "16869"
      ]
     },
     "execution_count": 11,
     "metadata": {},
     "output_type": "execute_result"
    }
   ],
   "source": [
    "#cheking the duplicate values\n",
    "ks.duplicated().sum()"
   ]
  },
  {
   "cell_type": "code",
   "execution_count": 12,
   "id": "9b0deafb",
   "metadata": {
    "execution": {
     "iopub.execute_input": "2023-08-29T11:57:57.026222Z",
     "iopub.status.busy": "2023-08-29T11:57:57.025818Z",
     "iopub.status.idle": "2023-08-29T11:58:02.632349Z",
     "shell.execute_reply": "2023-08-29T11:58:02.630920Z"
    },
    "papermill": {
     "duration": 5.617274,
     "end_time": "2023-08-29T11:58:02.635007",
     "exception": false,
     "start_time": "2023-08-29T11:57:57.017733",
     "status": "completed"
    },
    "tags": []
   },
   "outputs": [
    {
     "data": {
      "text/plain": [
       "time            3428775\n",
       "place            531130\n",
       "status                6\n",
       "tsunami               2\n",
       "significance       1170\n",
       "data_type            25\n",
       "magnitudo           933\n",
       "state               858\n",
       "longitude        733599\n",
       "latitude         518295\n",
       "depth             78386\n",
       "date            3428775\n",
       "dtype: int64"
      ]
     },
     "execution_count": 12,
     "metadata": {},
     "output_type": "execute_result"
    }
   ],
   "source": [
    "#checking unique values\n",
    "ks.nunique()\n",
    "\n"
   ]
  },
  {
   "cell_type": "markdown",
   "id": "b82caa1b",
   "metadata": {
    "papermill": {
     "duration": 0.007079,
     "end_time": "2023-08-29T11:58:02.649405",
     "exception": false,
     "start_time": "2023-08-29T11:58:02.642326",
     "status": "completed"
    },
    "tags": []
   },
   "source": [
    "**Problems \n",
    "\n",
    "1.Draw a pie chart of current state of event(automatic or reviewed)**"
   ]
  },
  {
   "cell_type": "code",
   "execution_count": 13,
   "id": "f969134b",
   "metadata": {
    "execution": {
     "iopub.execute_input": "2023-08-29T11:58:02.665302Z",
     "iopub.status.busy": "2023-08-29T11:58:02.664839Z",
     "iopub.status.idle": "2023-08-29T11:58:03.367378Z",
     "shell.execute_reply": "2023-08-29T11:58:03.366129Z"
    },
    "papermill": {
     "duration": 0.714827,
     "end_time": "2023-08-29T11:58:03.371355",
     "exception": false,
     "start_time": "2023-08-29T11:58:02.656528",
     "status": "completed"
    },
    "tags": []
   },
   "outputs": [
    {
     "data": {
      "text/plain": [
       "([<matplotlib.patches.Wedge at 0x7df78aea4cd0>,\n",
       "  <matplotlib.patches.Wedge at 0x7df78aea4be0>,\n",
       "  <matplotlib.patches.Wedge at 0x7df78aea59c0>,\n",
       "  <matplotlib.patches.Wedge at 0x7df78aea6050>,\n",
       "  <matplotlib.patches.Wedge at 0x7df78aea66e0>,\n",
       "  <matplotlib.patches.Wedge at 0x7df78aea6d70>],\n",
       " [Text(-1.077760798971768, 0.22007194323615378, 'reviewed'),\n",
       "  Text(1.074605028592331, -0.23499794153157044, 'automatic'),\n",
       "  Text(1.099878071594367, -0.01637765629925545, 'AUTOMATIC'),\n",
       "  Text(1.099999415324402, -0.0011341454819219958, 'REVIEWED'),\n",
       "  Text(1.0999999998849483, -1.5909554125562797e-05, 'MANUAL'),\n",
       "  Text(1.0999999999931758, -3.87472596922784e-06, 'manual')],\n",
       " [Text(-0.5878695267118733, 0.12003924176517478, '93.6%'),\n",
       "  Text(0.5861481974139987, -0.1281806953808566, '6.0%'),\n",
       "  Text(0.5999334935969274, -0.008933267072321154, '0.4%'),\n",
       "  Text(0.5999996810860373, -0.0006186248083210886, '0.0%'),\n",
       "  Text(0.5999999999372444, -8.677938613943342e-06, '0.0%'),\n",
       "  Text(0.5999999999962776, -2.1134868923060945e-06, '0.0%')])"
      ]
     },
     "execution_count": 13,
     "metadata": {},
     "output_type": "execute_result"
    },
    {
     "data": {
      "image/png": "[encoded data removed]",
      "text/plain": [
       "<Figure size 640x480 with 1 Axes>"
      ]
     },
     "metadata": {},
     "output_type": "display_data"
    }
   ],
   "source": [
    "plt.pie(ks['status'].value_counts(),labels=list(ks['status'].unique()),autopct=\"%0.1f%%\")"
   ]
  },
  {
   "cell_type": "markdown",
   "id": "8aff5dfe",
   "metadata": {
    "papermill": {
     "duration": 0.012942,
     "end_time": "2023-08-29T11:58:03.397946",
     "exception": false,
     "start_time": "2023-08-29T11:58:03.385004",
     "status": "completed"
    },
    "tags": []
   },
   "source": [
    "As we can see reviewed state is more than automatic state"
   ]
  },
  {
   "cell_type": "code",
   "execution_count": 14,
   "id": "0a030df6",
   "metadata": {
    "execution": {
     "iopub.execute_input": "2023-08-29T11:58:03.421904Z",
     "iopub.status.busy": "2023-08-29T11:58:03.421139Z",
     "iopub.status.idle": "2023-08-29T11:58:03.964155Z",
     "shell.execute_reply": "2023-08-29T11:58:03.962898Z"
    },
    "papermill": {
     "duration": 0.555051,
     "end_time": "2023-08-29T11:58:03.966921",
     "exception": false,
     "start_time": "2023-08-29T11:58:03.411870",
     "status": "completed"
    },
    "tags": []
   },
   "outputs": [
    {
     "data": {
      "image/png": "[encoded data removed]",
      "text/plain": [
       "<Figure size 640x480 with 1 Axes>"
      ]
     },
     "metadata": {},
     "output_type": "display_data"
    }
   ],
   "source": [
    "ks['data_type'].value_counts().sort_values(ascending=False)[:10].plot(kind='bar')\n",
    "plt.show()"
   ]
  },
  {
   "cell_type": "markdown",
   "id": "1f2493de",
   "metadata": {
    "papermill": {
     "duration": 0.007853,
     "end_time": "2023-08-29T11:58:03.983219",
     "exception": false,
     "start_time": "2023-08-29T11:58:03.975366",
     "status": "completed"
    },
    "tags": []
   },
   "source": [
    "3.Relation between magnitude and significance"
   ]
  },
  {
   "cell_type": "code",
   "execution_count": 15,
   "id": "b97953f5",
   "metadata": {
    "execution": {
     "iopub.execute_input": "2023-08-29T11:58:04.001403Z",
     "iopub.status.busy": "2023-08-29T11:58:04.000975Z",
     "iopub.status.idle": "2023-08-29T11:58:04.282572Z",
     "shell.execute_reply": "2023-08-29T11:58:04.280976Z"
    },
    "papermill": {
     "duration": 0.294047,
     "end_time": "2023-08-29T11:58:04.285466",
     "exception": false,
     "start_time": "2023-08-29T11:58:03.991419",
     "status": "completed"
    },
    "tags": []
   },
   "outputs": [
    {
     "data": {
      "text/plain": [
       "[<matplotlib.lines.Line2D at 0x7df78ae02aa0>]"
      ]
     },
     "execution_count": 15,
     "metadata": {},
     "output_type": "execute_result"
    },
    {
     "data": {
      "image/png": "[encoded data removed]",
      "text/plain": [
       "<Figure size 640x480 with 1 Axes>"
      ]
     },
     "metadata": {},
     "output_type": "display_data"
    }
   ],
   "source": [
    "#The precalcualted average of magnitude is 83.02686789\n",
    "#The precalculated average of significance is 1.972216904\n",
    "#Here we have plot the values which are less than and eqaual to average values\n",
    "y= ks['magnitudo'][:10]\n",
    "\n",
    "x = ks['significance'][:10]\n",
    "\n",
    "plt.xlabel(\"significance\")\n",
    "plt.ylabel(\"magnitudo\")\n",
    "plt.plot(x,y)"
   ]
  },
  {
   "cell_type": "code",
   "execution_count": 16,
   "id": "7d2af7a1",
   "metadata": {
    "execution": {
     "iopub.execute_input": "2023-08-29T11:58:04.305786Z",
     "iopub.status.busy": "2023-08-29T11:58:04.305282Z",
     "iopub.status.idle": "2023-08-29T11:58:20.304345Z",
     "shell.execute_reply": "2023-08-29T11:58:20.303084Z"
    },
    "papermill": {
     "duration": 16.01301,
     "end_time": "2023-08-29T11:58:20.307599",
     "exception": false,
     "start_time": "2023-08-29T11:58:04.294589",
     "status": "completed"
    },
    "tags": []
   },
   "outputs": [
    {
     "name": "stderr",
     "output_type": "stream",
     "text": [
      "/tmp/ipykernel_20/987589371.py:1: UserWarning: \n",
      "\n",
      "`distplot` is a deprecated function and will be removed in seaborn v0.14.0.\n",
      "\n",
      "Please adapt your code to use either `displot` (a figure-level function with\n",
      "similar flexibility) or `histplot` (an axes-level function for histograms).\n",
      "\n",
      "For a guide to updating your code to use the new functions, please see\n",
      "https://gist.github.com/mwaskom/de44147ed2974457ad6372750bbe5751\n",
      "\n",
      "  sns.distplot(ks['latitude'])\n"
     ]
    },
    {
     "data": {
      "image/png": "[encoded data removed]",
      "text/plain": [
       "<Figure size 640x480 with 1 Axes>"
      ]
     },
     "metadata": {},
     "output_type": "display_data"
    }
   ],
   "source": [
    "sns.distplot(ks['latitude'])\n",
    "plt.show()"
   ]
  },
  {
   "cell_type": "code",
   "execution_count": 17,
   "id": "f8e3e382",
   "metadata": {
    "execution": {
     "iopub.execute_input": "2023-08-29T11:58:20.329832Z",
     "iopub.status.busy": "2023-08-29T11:58:20.329037Z",
     "iopub.status.idle": "2023-08-29T11:58:35.422478Z",
     "shell.execute_reply": "2023-08-29T11:58:35.420948Z"
    },
    "papermill": {
     "duration": 15.10792,
     "end_time": "2023-08-29T11:58:35.425471",
     "exception": false,
     "start_time": "2023-08-29T11:58:20.317551",
     "status": "completed"
    },
    "tags": []
   },
   "outputs": [
    {
     "name": "stderr",
     "output_type": "stream",
     "text": [
      "/tmp/ipykernel_20/1562912870.py:1: UserWarning: \n",
      "\n",
      "`distplot` is a deprecated function and will be removed in seaborn v0.14.0.\n",
      "\n",
      "Please adapt your code to use either `displot` (a figure-level function with\n",
      "similar flexibility) or `histplot` (an axes-level function for histograms).\n",
      "\n",
      "For a guide to updating your code to use the new functions, please see\n",
      "https://gist.github.com/mwaskom/de44147ed2974457ad6372750bbe5751\n",
      "\n",
      "  sns.distplot(ks['longitude'])\n"
     ]
    },
    {
     "data": {
      "image/png": "[encoded data removed]",
      "text/plain": [
       "<Figure size 640x480 with 1 Axes>"
      ]
     },
     "metadata": {},
     "output_type": "display_data"
    }
   ],
   "source": [
    "sns.distplot(ks['longitude'])\n",
    "plt.show()"
   ]
  },
  {
   "cell_type": "code",
   "execution_count": null,
   "id": "3b30a42f",
   "metadata": {
    "papermill": {
     "duration": 0.010803,
     "end_time": "2023-08-29T11:58:35.446453",
     "exception": false,
     "start_time": "2023-08-29T11:58:35.435650",
     "status": "completed"
    },
    "tags": []
   },
   "outputs": [],
   "source": []
  },
  {
   "cell_type": "code",
   "execution_count": null,
   "id": "1b960ef7",
   "metadata": {
    "papermill": {
     "duration": 0.010774,
     "end_time": "2023-08-29T11:58:35.468038",
     "exception": false,
     "start_time": "2023-08-29T11:58:35.457264",
     "status": "completed"
    },
    "tags": []
   },
   "outputs": [],
   "source": []
  }
 ],
 "metadata": {
  "kernelspec": {
   "display_name": "Python 3",
   "language": "python",
   "name": "python3"
  },
  "language_info": {
   "codemirror_mode": {
    "name": "ipython",
    "version": 3
   },
   "file_extension": ".py",
   "mimetype": "text/x-python",
   "name": "python",
   "nbconvert_exporter": "python",
   "pygments_lexer": "ipython3",
   "version": "3.10.12"
  },
  "papermill": {
   "default_parameters": {},
   "duration": 87.864494,
   "end_time": "2023-08-29T11:58:36.805788",
   "environment_variables": {},
   "exception": null,
   "input_path": "__notebook__.ipynb",
   "output_path": "__notebook__.ipynb",
   "parameters": {},
   "start_time": "2023-08-29T11:57:08.941294",
   "version": "2.4.0"
  }
 },
 "nbformat": 4,
 "nbformat_minor": 5
}
